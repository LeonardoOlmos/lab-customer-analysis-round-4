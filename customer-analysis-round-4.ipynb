{
 "cells": [
  {
   "cell_type": "markdown",
   "metadata": {},
   "source": [
    "# Customer Analysis Round 4"
   ]
  },
  {
   "cell_type": "markdown",
   "metadata": {},
   "source": [
    "1. Get the data"
   ]
  },
  {
   "cell_type": "code",
   "execution_count": 1,
   "metadata": {},
   "outputs": [],
   "source": [
    "import pandas as pd\n",
    "import numpy as np\n",
    "import seaborn as sns\n",
    "import matplotlib.pyplot as plt"
   ]
  },
  {
   "cell_type": "code",
   "execution_count": 2,
   "metadata": {},
   "outputs": [],
   "source": [
    "df = pd.read_csv('./files_for_lab/csv_files/marketing_customer_analysis.csv')"
   ]
  },
  {
   "cell_type": "code",
   "execution_count": 3,
   "metadata": {},
   "outputs": [
    {
     "data": {
      "text/html": [
       "<div>\n",
       "<style scoped>\n",
       "    .dataframe tbody tr th:only-of-type {\n",
       "        vertical-align: middle;\n",
       "    }\n",
       "\n",
       "    .dataframe tbody tr th {\n",
       "        vertical-align: top;\n",
       "    }\n",
       "\n",
       "    .dataframe thead th {\n",
       "        text-align: right;\n",
       "    }\n",
       "</style>\n",
       "<table border=\"1\" class=\"dataframe\">\n",
       "  <thead>\n",
       "    <tr style=\"text-align: right;\">\n",
       "      <th></th>\n",
       "      <th>Customer</th>\n",
       "      <th>State</th>\n",
       "      <th>Customer Lifetime Value</th>\n",
       "      <th>Response</th>\n",
       "      <th>Coverage</th>\n",
       "      <th>Education</th>\n",
       "      <th>Effective To Date</th>\n",
       "      <th>EmploymentStatus</th>\n",
       "      <th>Gender</th>\n",
       "      <th>Income</th>\n",
       "      <th>...</th>\n",
       "      <th>Months Since Policy Inception</th>\n",
       "      <th>Number of Open Complaints</th>\n",
       "      <th>Number of Policies</th>\n",
       "      <th>Policy Type</th>\n",
       "      <th>Policy</th>\n",
       "      <th>Renew Offer Type</th>\n",
       "      <th>Sales Channel</th>\n",
       "      <th>Total Claim Amount</th>\n",
       "      <th>Vehicle Class</th>\n",
       "      <th>Vehicle Size</th>\n",
       "    </tr>\n",
       "  </thead>\n",
       "  <tbody>\n",
       "    <tr>\n",
       "      <th>0</th>\n",
       "      <td>BU79786</td>\n",
       "      <td>Washington</td>\n",
       "      <td>2763.519279</td>\n",
       "      <td>No</td>\n",
       "      <td>Basic</td>\n",
       "      <td>Bachelor</td>\n",
       "      <td>2/24/11</td>\n",
       "      <td>Employed</td>\n",
       "      <td>F</td>\n",
       "      <td>56274</td>\n",
       "      <td>...</td>\n",
       "      <td>5</td>\n",
       "      <td>0</td>\n",
       "      <td>1</td>\n",
       "      <td>Corporate Auto</td>\n",
       "      <td>Corporate L3</td>\n",
       "      <td>Offer1</td>\n",
       "      <td>Agent</td>\n",
       "      <td>384.811147</td>\n",
       "      <td>Two-Door Car</td>\n",
       "      <td>Medsize</td>\n",
       "    </tr>\n",
       "    <tr>\n",
       "      <th>1</th>\n",
       "      <td>QZ44356</td>\n",
       "      <td>Arizona</td>\n",
       "      <td>6979.535903</td>\n",
       "      <td>No</td>\n",
       "      <td>Extended</td>\n",
       "      <td>Bachelor</td>\n",
       "      <td>1/31/11</td>\n",
       "      <td>Unemployed</td>\n",
       "      <td>F</td>\n",
       "      <td>0</td>\n",
       "      <td>...</td>\n",
       "      <td>42</td>\n",
       "      <td>0</td>\n",
       "      <td>8</td>\n",
       "      <td>Personal Auto</td>\n",
       "      <td>Personal L3</td>\n",
       "      <td>Offer3</td>\n",
       "      <td>Agent</td>\n",
       "      <td>1131.464935</td>\n",
       "      <td>Four-Door Car</td>\n",
       "      <td>Medsize</td>\n",
       "    </tr>\n",
       "  </tbody>\n",
       "</table>\n",
       "<p>2 rows × 24 columns</p>\n",
       "</div>"
      ],
      "text/plain": [
       "  Customer       State  Customer Lifetime Value Response  Coverage Education  \\\n",
       "0  BU79786  Washington              2763.519279       No     Basic  Bachelor   \n",
       "1  QZ44356     Arizona              6979.535903       No  Extended  Bachelor   \n",
       "\n",
       "  Effective To Date EmploymentStatus Gender  Income  ...  \\\n",
       "0           2/24/11         Employed      F   56274  ...   \n",
       "1           1/31/11       Unemployed      F       0  ...   \n",
       "\n",
       "  Months Since Policy Inception Number of Open Complaints  Number of Policies  \\\n",
       "0                             5                         0                   1   \n",
       "1                            42                         0                   8   \n",
       "\n",
       "      Policy Type        Policy  Renew Offer Type  Sales Channel  \\\n",
       "0  Corporate Auto  Corporate L3            Offer1          Agent   \n",
       "1   Personal Auto   Personal L3            Offer3          Agent   \n",
       "\n",
       "  Total Claim Amount  Vehicle Class Vehicle Size  \n",
       "0         384.811147   Two-Door Car      Medsize  \n",
       "1        1131.464935  Four-Door Car      Medsize  \n",
       "\n",
       "[2 rows x 24 columns]"
      ]
     },
     "execution_count": 3,
     "metadata": {},
     "output_type": "execute_result"
    }
   ],
   "source": [
    "df.head(2)"
   ]
  },
  {
   "cell_type": "code",
   "execution_count": 4,
   "metadata": {},
   "outputs": [],
   "source": [
    "df.columns = df.columns.str.replace(' ', '_')"
   ]
  },
  {
   "cell_type": "code",
   "execution_count": 5,
   "metadata": {},
   "outputs": [],
   "source": [
    "df.rename(columns={\"EmploymentStatus\": \"Employment_Status\"}, inplace = True)"
   ]
  },
  {
   "cell_type": "code",
   "execution_count": 6,
   "metadata": {},
   "outputs": [
    {
     "data": {
      "text/plain": [
       "Customer                         0\n",
       "State                            0\n",
       "Customer_Lifetime_Value          0\n",
       "Response                         0\n",
       "Coverage                         0\n",
       "Education                        0\n",
       "Effective_To_Date                0\n",
       "Employment_Status                0\n",
       "Gender                           0\n",
       "Income                           0\n",
       "Location_Code                    0\n",
       "Marital_Status                   0\n",
       "Monthly_Premium_Auto             0\n",
       "Months_Since_Last_Claim          0\n",
       "Months_Since_Policy_Inception    0\n",
       "Number_of_Open_Complaints        0\n",
       "Number_of_Policies               0\n",
       "Policy_Type                      0\n",
       "Policy                           0\n",
       "Renew_Offer_Type                 0\n",
       "Sales_Channel                    0\n",
       "Total_Claim_Amount               0\n",
       "Vehicle_Class                    0\n",
       "Vehicle_Size                     0\n",
       "dtype: int64"
      ]
     },
     "execution_count": 6,
     "metadata": {},
     "output_type": "execute_result"
    }
   ],
   "source": [
    "df.isnull().sum()"
   ]
  },
  {
   "cell_type": "code",
   "execution_count": 7,
   "metadata": {},
   "outputs": [
    {
     "data": {
      "text/plain": [
       "(9134, 24)"
      ]
     },
     "execution_count": 7,
     "metadata": {},
     "output_type": "execute_result"
    }
   ],
   "source": [
    "df.shape"
   ]
  },
  {
   "cell_type": "code",
   "execution_count": 8,
   "metadata": {},
   "outputs": [
    {
     "data": {
      "text/plain": [
       "Customer                          object\n",
       "State                             object\n",
       "Customer_Lifetime_Value          float64\n",
       "Response                          object\n",
       "Coverage                          object\n",
       "Education                         object\n",
       "Effective_To_Date                 object\n",
       "Employment_Status                 object\n",
       "Gender                            object\n",
       "Income                             int64\n",
       "Location_Code                     object\n",
       "Marital_Status                    object\n",
       "Monthly_Premium_Auto               int64\n",
       "Months_Since_Last_Claim            int64\n",
       "Months_Since_Policy_Inception      int64\n",
       "Number_of_Open_Complaints          int64\n",
       "Number_of_Policies                 int64\n",
       "Policy_Type                       object\n",
       "Policy                            object\n",
       "Renew_Offer_Type                  object\n",
       "Sales_Channel                     object\n",
       "Total_Claim_Amount               float64\n",
       "Vehicle_Class                     object\n",
       "Vehicle_Size                      object\n",
       "dtype: object"
      ]
     },
     "execution_count": 8,
     "metadata": {},
     "output_type": "execute_result"
    }
   ],
   "source": [
    "df.dtypes"
   ]
  },
  {
   "cell_type": "markdown",
   "metadata": {},
   "source": [
    "2. Check the data types of the columns. Get the numeric data into dataframe called numerical and categorical columns in a dataframe called categoricals"
   ]
  },
  {
   "cell_type": "code",
   "execution_count": 9,
   "metadata": {},
   "outputs": [],
   "source": [
    "numerical = df.select_dtypes(np.number)"
   ]
  },
  {
   "cell_type": "code",
   "execution_count": 10,
   "metadata": {},
   "outputs": [
    {
     "data": {
      "text/html": [
       "<div>\n",
       "<style scoped>\n",
       "    .dataframe tbody tr th:only-of-type {\n",
       "        vertical-align: middle;\n",
       "    }\n",
       "\n",
       "    .dataframe tbody tr th {\n",
       "        vertical-align: top;\n",
       "    }\n",
       "\n",
       "    .dataframe thead th {\n",
       "        text-align: right;\n",
       "    }\n",
       "</style>\n",
       "<table border=\"1\" class=\"dataframe\">\n",
       "  <thead>\n",
       "    <tr style=\"text-align: right;\">\n",
       "      <th></th>\n",
       "      <th>Customer_Lifetime_Value</th>\n",
       "      <th>Income</th>\n",
       "      <th>Monthly_Premium_Auto</th>\n",
       "      <th>Months_Since_Last_Claim</th>\n",
       "      <th>Months_Since_Policy_Inception</th>\n",
       "      <th>Number_of_Open_Complaints</th>\n",
       "      <th>Number_of_Policies</th>\n",
       "      <th>Total_Claim_Amount</th>\n",
       "    </tr>\n",
       "  </thead>\n",
       "  <tbody>\n",
       "    <tr>\n",
       "      <th>0</th>\n",
       "      <td>2763.519279</td>\n",
       "      <td>56274</td>\n",
       "      <td>69</td>\n",
       "      <td>32</td>\n",
       "      <td>5</td>\n",
       "      <td>0</td>\n",
       "      <td>1</td>\n",
       "      <td>384.811147</td>\n",
       "    </tr>\n",
       "    <tr>\n",
       "      <th>1</th>\n",
       "      <td>6979.535903</td>\n",
       "      <td>0</td>\n",
       "      <td>94</td>\n",
       "      <td>13</td>\n",
       "      <td>42</td>\n",
       "      <td>0</td>\n",
       "      <td>8</td>\n",
       "      <td>1131.464935</td>\n",
       "    </tr>\n",
       "  </tbody>\n",
       "</table>\n",
       "</div>"
      ],
      "text/plain": [
       "   Customer_Lifetime_Value  Income  Monthly_Premium_Auto  \\\n",
       "0              2763.519279   56274                    69   \n",
       "1              6979.535903       0                    94   \n",
       "\n",
       "   Months_Since_Last_Claim  Months_Since_Policy_Inception  \\\n",
       "0                       32                              5   \n",
       "1                       13                             42   \n",
       "\n",
       "   Number_of_Open_Complaints  Number_of_Policies  Total_Claim_Amount  \n",
       "0                          0                   1          384.811147  \n",
       "1                          0                   8         1131.464935  "
      ]
     },
     "execution_count": 10,
     "metadata": {},
     "output_type": "execute_result"
    }
   ],
   "source": [
    "numerical.head(2)"
   ]
  },
  {
   "cell_type": "code",
   "execution_count": 11,
   "metadata": {},
   "outputs": [],
   "source": [
    "categorical = df.select_dtypes(np.object)"
   ]
  },
  {
   "cell_type": "code",
   "execution_count": 12,
   "metadata": {},
   "outputs": [
    {
     "data": {
      "text/html": [
       "<div>\n",
       "<style scoped>\n",
       "    .dataframe tbody tr th:only-of-type {\n",
       "        vertical-align: middle;\n",
       "    }\n",
       "\n",
       "    .dataframe tbody tr th {\n",
       "        vertical-align: top;\n",
       "    }\n",
       "\n",
       "    .dataframe thead th {\n",
       "        text-align: right;\n",
       "    }\n",
       "</style>\n",
       "<table border=\"1\" class=\"dataframe\">\n",
       "  <thead>\n",
       "    <tr style=\"text-align: right;\">\n",
       "      <th></th>\n",
       "      <th>Customer</th>\n",
       "      <th>State</th>\n",
       "      <th>Response</th>\n",
       "      <th>Coverage</th>\n",
       "      <th>Education</th>\n",
       "      <th>Effective_To_Date</th>\n",
       "      <th>Employment_Status</th>\n",
       "      <th>Gender</th>\n",
       "      <th>Location_Code</th>\n",
       "      <th>Marital_Status</th>\n",
       "      <th>Policy_Type</th>\n",
       "      <th>Policy</th>\n",
       "      <th>Renew_Offer_Type</th>\n",
       "      <th>Sales_Channel</th>\n",
       "      <th>Vehicle_Class</th>\n",
       "      <th>Vehicle_Size</th>\n",
       "    </tr>\n",
       "  </thead>\n",
       "  <tbody>\n",
       "    <tr>\n",
       "      <th>0</th>\n",
       "      <td>BU79786</td>\n",
       "      <td>Washington</td>\n",
       "      <td>No</td>\n",
       "      <td>Basic</td>\n",
       "      <td>Bachelor</td>\n",
       "      <td>2/24/11</td>\n",
       "      <td>Employed</td>\n",
       "      <td>F</td>\n",
       "      <td>Suburban</td>\n",
       "      <td>Married</td>\n",
       "      <td>Corporate Auto</td>\n",
       "      <td>Corporate L3</td>\n",
       "      <td>Offer1</td>\n",
       "      <td>Agent</td>\n",
       "      <td>Two-Door Car</td>\n",
       "      <td>Medsize</td>\n",
       "    </tr>\n",
       "    <tr>\n",
       "      <th>1</th>\n",
       "      <td>QZ44356</td>\n",
       "      <td>Arizona</td>\n",
       "      <td>No</td>\n",
       "      <td>Extended</td>\n",
       "      <td>Bachelor</td>\n",
       "      <td>1/31/11</td>\n",
       "      <td>Unemployed</td>\n",
       "      <td>F</td>\n",
       "      <td>Suburban</td>\n",
       "      <td>Single</td>\n",
       "      <td>Personal Auto</td>\n",
       "      <td>Personal L3</td>\n",
       "      <td>Offer3</td>\n",
       "      <td>Agent</td>\n",
       "      <td>Four-Door Car</td>\n",
       "      <td>Medsize</td>\n",
       "    </tr>\n",
       "  </tbody>\n",
       "</table>\n",
       "</div>"
      ],
      "text/plain": [
       "  Customer       State Response  Coverage Education Effective_To_Date  \\\n",
       "0  BU79786  Washington       No     Basic  Bachelor           2/24/11   \n",
       "1  QZ44356     Arizona       No  Extended  Bachelor           1/31/11   \n",
       "\n",
       "  Employment_Status Gender Location_Code Marital_Status     Policy_Type  \\\n",
       "0          Employed      F      Suburban        Married  Corporate Auto   \n",
       "1        Unemployed      F      Suburban         Single   Personal Auto   \n",
       "\n",
       "         Policy Renew_Offer_Type Sales_Channel  Vehicle_Class Vehicle_Size  \n",
       "0  Corporate L3           Offer1         Agent   Two-Door Car      Medsize  \n",
       "1   Personal L3           Offer3         Agent  Four-Door Car      Medsize  "
      ]
     },
     "execution_count": 12,
     "metadata": {},
     "output_type": "execute_result"
    }
   ],
   "source": [
    "categorical.head(2)"
   ]
  },
  {
   "cell_type": "markdown",
   "metadata": {},
   "source": [
    "3. Now we will try to check the normality of the numerical variables visually"
   ]
  },
  {
   "cell_type": "markdown",
   "metadata": {},
   "source": [
    "    3a. Use seaborn library to construct distribution plots for the numerical variables"
   ]
  },
  {
   "cell_type": "code",
   "execution_count": 72,
   "metadata": {},
   "outputs": [
    {
     "data": {
      "image/png": "[encoded data removed]",
      "text/plain": [
       "<Figure size 360x360 with 1 Axes>"
      ]
     },
     "metadata": {},
     "output_type": "display_data"
    }
   ],
   "source": [
    "sns.displot(data = df, x = df['Customer_Lifetime_Value'], bins = 75);\n",
    "plt.ylabel('Total count');"
   ]
  },
  {
   "cell_type": "code",
   "execution_count": 70,
   "metadata": {},
   "outputs": [
    {
     "data": {
      "image/png": "[encoded data removed]",
      "text/plain": [
       "<Figure size 360x360 with 1 Axes>"
      ]
     },
     "metadata": {},
     "output_type": "display_data"
    }
   ],
   "source": [
    "sns.displot(data = df, x = df['Income'], color = '#d17213', bins = 50);\n",
    "plt.ylabel('Total count');"
   ]
  },
  {
   "cell_type": "code",
   "execution_count": 68,
   "metadata": {},
   "outputs": [
    {
     "data": {
      "image/png": "[encoded data removed]",
      "text/plain": [
       "<Figure size 360x360 with 1 Axes>"
      ]
     },
     "metadata": {},
     "output_type": "display_data"
    }
   ],
   "source": [
    "sns.displot(data = df, x = df['Monthly_Premium_Auto'], color = '#03adfc', bins = 50);\n",
    "plt.ylabel('Total count');"
   ]
  },
  {
   "cell_type": "code",
   "execution_count": 67,
   "metadata": {},
   "outputs": [
    {
     "data": {
      "image/png": "[encoded data removed]",
      "text/plain": [
       "<Figure size 360x360 with 1 Axes>"
      ]
     },
     "metadata": {},
     "output_type": "display_data"
    }
   ],
   "source": [
    "sns.displot(data = df, x = df['Months_Since_Last_Claim'], color = '#08c453', kde = True);\n",
    "plt.ylabel('Total count');"
   ]
  },
  {
   "cell_type": "code",
   "execution_count": 66,
   "metadata": {},
   "outputs": [
    {
     "data": {
      "image/png": "[encoded data removed]",
      "text/plain": [
       "<Figure size 360x360 with 1 Axes>"
      ]
     },
     "metadata": {},
     "output_type": "display_data"
    }
   ],
   "source": [
    "sns.displot(data = df, x = df['Months_Since_Policy_Inception']);\n",
    "plt.ylabel('Total count');"
   ]
  },
  {
   "cell_type": "code",
   "execution_count": 61,
   "metadata": {},
   "outputs": [
    {
     "data": {
      "image/png": "[encoded data removed]",
      "text/plain": [
       "<Figure size 360x360 with 1 Axes>"
      ]
     },
     "metadata": {},
     "output_type": "display_data"
    }
   ],
   "source": [
    "sns.displot(data = df, x = df['Number_of_Open_Complaints'], shrink = 1, color = '#f7c202');\n",
    "plt.ylabel('Total count');"
   ]
  },
  {
   "cell_type": "code",
   "execution_count": 59,
   "metadata": {},
   "outputs": [
    {
     "data": {
      "image/png": "[encoded data removed]",
      "text/plain": [
       "<Figure size 360x360 with 1 Axes>"
      ]
     },
     "metadata": {},
     "output_type": "display_data"
    }
   ],
   "source": [
    "sns.displot(data = df, x = df['Number_of_Policies'], kde = True, shrink = 1.2);\n",
    "plt.ylabel('Total count');"
   ]
  },
  {
   "cell_type": "code",
   "execution_count": 60,
   "metadata": {},
   "outputs": [
    {
     "data": {
      "image/png": "[encoded data removed]",
      "text/plain": [
       "<Figure size 360x360 with 1 Axes>"
      ]
     },
     "metadata": {},
     "output_type": "display_data"
    }
   ],
   "source": [
    "sns.displot(data = df, x = df['Total_Claim_Amount'], bins = 20);\n",
    "plt.ylabel('Total count');"
   ]
  },
  {
   "cell_type": "markdown",
   "metadata": {},
   "source": [
    "    3b. Use Matplotlib to construct histograms"
   ]
  },
  {
   "cell_type": "code",
   "execution_count": 94,
   "metadata": {},
   "outputs": [
    {
     "data": {
      "image/png": "[encoded data removed]",
      "text/plain": [
       "<Figure size 720x360 with 1 Axes>"
      ]
     },
     "metadata": {},
     "output_type": "display_data"
    }
   ],
   "source": [
    "plt.figure(figsize = (10, 5))\n",
    "plt.hist(df['Income'], color = '#157302', bins = 20)\n",
    "plt.xlabel('Income')\n",
    "plt.ylabel('Count')\n",
    "plt.show() "
   ]
  },
  {
   "cell_type": "code",
   "execution_count": 96,
   "metadata": {},
   "outputs": [
    {
     "data": {
      "image/png": "[encoded data removed]",
      "text/plain": [
       "<Figure size 720x360 with 1 Axes>"
      ]
     },
     "metadata": {},
     "output_type": "display_data"
    }
   ],
   "source": [
    "plt.figure(figsize = (10, 5))\n",
    "plt.hist(df['Number_of_Policies'], color = '#d1ab15', bins = 10)\n",
    "plt.xlabel('Number_of_Policies')\n",
    "plt.ylabel('Count')\n",
    "plt.show() "
   ]
  },
  {
   "cell_type": "code",
   "execution_count": 99,
   "metadata": {},
   "outputs": [
    {
     "data": {
      "image/png": "[encoded data removed]",
      "text/plain": [
       "<Figure size 720x360 with 1 Axes>"
      ]
     },
     "metadata": {},
     "output_type": "display_data"
    }
   ],
   "source": [
    "plt.figure(figsize = (10, 5))\n",
    "plt.hist(df['Customer_Lifetime_Value'], color = '#03adfc', bins = 30)\n",
    "plt.xlabel('Customer_Lifetime_Value')\n",
    "plt.ylabel('Count')\n",
    "plt.show() "
   ]
  },
  {
   "cell_type": "markdown",
   "metadata": {},
   "source": [
    "    3c. Do the distributions for different numerical variables look like a normal distribution"
   ]
  },
  {
   "cell_type": "code",
   "execution_count": null,
   "metadata": {},
   "outputs": [],
   "source": []
  },
  {
   "cell_type": "markdown",
   "metadata": {},
   "source": [
    "4. For the numerical variables, check the multicollinearity between the features. Please note that we will use the column total_claim_amount later as the target variable."
   ]
  },
  {
   "cell_type": "code",
   "execution_count": null,
   "metadata": {},
   "outputs": [],
   "source": []
  },
  {
   "cell_type": "code",
   "execution_count": 104,
   "metadata": {},
   "outputs": [
    {
     "data": {
      "text/html": [
       "<div>\n",
       "<style scoped>\n",
       "    .dataframe tbody tr th:only-of-type {\n",
       "        vertical-align: middle;\n",
       "    }\n",
       "\n",
       "    .dataframe tbody tr th {\n",
       "        vertical-align: top;\n",
       "    }\n",
       "\n",
       "    .dataframe thead th {\n",
       "        text-align: right;\n",
       "    }\n",
       "</style>\n",
       "<table border=\"1\" class=\"dataframe\">\n",
       "  <thead>\n",
       "    <tr style=\"text-align: right;\">\n",
       "      <th></th>\n",
       "      <th>Customer_Lifetime_Value</th>\n",
       "      <th>Income</th>\n",
       "      <th>Monthly_Premium_Auto</th>\n",
       "      <th>Months_Since_Last_Claim</th>\n",
       "      <th>Months_Since_Policy_Inception</th>\n",
       "      <th>Number_of_Open_Complaints</th>\n",
       "      <th>Number_of_Policies</th>\n",
       "      <th>Total_Claim_Amount</th>\n",
       "    </tr>\n",
       "  </thead>\n",
       "  <tbody>\n",
       "    <tr>\n",
       "      <th>Customer_Lifetime_Value</th>\n",
       "      <td>1.000000</td>\n",
       "      <td>0.024366</td>\n",
       "      <td>0.396262</td>\n",
       "      <td>0.011517</td>\n",
       "      <td>0.009418</td>\n",
       "      <td>-0.036343</td>\n",
       "      <td>0.021955</td>\n",
       "      <td>0.226451</td>\n",
       "    </tr>\n",
       "    <tr>\n",
       "      <th>Income</th>\n",
       "      <td>0.024366</td>\n",
       "      <td>1.000000</td>\n",
       "      <td>-0.016665</td>\n",
       "      <td>-0.026715</td>\n",
       "      <td>-0.000875</td>\n",
       "      <td>0.006408</td>\n",
       "      <td>-0.008656</td>\n",
       "      <td>-0.355254</td>\n",
       "    </tr>\n",
       "    <tr>\n",
       "      <th>Monthly_Premium_Auto</th>\n",
       "      <td>0.396262</td>\n",
       "      <td>-0.016665</td>\n",
       "      <td>1.000000</td>\n",
       "      <td>0.005026</td>\n",
       "      <td>0.020257</td>\n",
       "      <td>-0.013122</td>\n",
       "      <td>-0.011233</td>\n",
       "      <td>0.632017</td>\n",
       "    </tr>\n",
       "    <tr>\n",
       "      <th>Months_Since_Last_Claim</th>\n",
       "      <td>0.011517</td>\n",
       "      <td>-0.026715</td>\n",
       "      <td>0.005026</td>\n",
       "      <td>1.000000</td>\n",
       "      <td>-0.042959</td>\n",
       "      <td>0.005354</td>\n",
       "      <td>0.009136</td>\n",
       "      <td>0.007563</td>\n",
       "    </tr>\n",
       "    <tr>\n",
       "      <th>Months_Since_Policy_Inception</th>\n",
       "      <td>0.009418</td>\n",
       "      <td>-0.000875</td>\n",
       "      <td>0.020257</td>\n",
       "      <td>-0.042959</td>\n",
       "      <td>1.000000</td>\n",
       "      <td>-0.001158</td>\n",
       "      <td>-0.013333</td>\n",
       "      <td>0.003335</td>\n",
       "    </tr>\n",
       "    <tr>\n",
       "      <th>Number_of_Open_Complaints</th>\n",
       "      <td>-0.036343</td>\n",
       "      <td>0.006408</td>\n",
       "      <td>-0.013122</td>\n",
       "      <td>0.005354</td>\n",
       "      <td>-0.001158</td>\n",
       "      <td>1.000000</td>\n",
       "      <td>0.001498</td>\n",
       "      <td>-0.014241</td>\n",
       "    </tr>\n",
       "    <tr>\n",
       "      <th>Number_of_Policies</th>\n",
       "      <td>0.021955</td>\n",
       "      <td>-0.008656</td>\n",
       "      <td>-0.011233</td>\n",
       "      <td>0.009136</td>\n",
       "      <td>-0.013333</td>\n",
       "      <td>0.001498</td>\n",
       "      <td>1.000000</td>\n",
       "      <td>-0.002354</td>\n",
       "    </tr>\n",
       "    <tr>\n",
       "      <th>Total_Claim_Amount</th>\n",
       "      <td>0.226451</td>\n",
       "      <td>-0.355254</td>\n",
       "      <td>0.632017</td>\n",
       "      <td>0.007563</td>\n",
       "      <td>0.003335</td>\n",
       "      <td>-0.014241</td>\n",
       "      <td>-0.002354</td>\n",
       "      <td>1.000000</td>\n",
       "    </tr>\n",
       "  </tbody>\n",
       "</table>\n",
       "</div>"
      ],
      "text/plain": [
       "                               Customer_Lifetime_Value    Income  \\\n",
       "Customer_Lifetime_Value                       1.000000  0.024366   \n",
       "Income                                        0.024366  1.000000   \n",
       "Monthly_Premium_Auto                          0.396262 -0.016665   \n",
       "Months_Since_Last_Claim                       0.011517 -0.026715   \n",
       "Months_Since_Policy_Inception                 0.009418 -0.000875   \n",
       "Number_of_Open_Complaints                    -0.036343  0.006408   \n",
       "Number_of_Policies                            0.021955 -0.008656   \n",
       "Total_Claim_Amount                            0.226451 -0.355254   \n",
       "\n",
       "                               Monthly_Premium_Auto  Months_Since_Last_Claim  \\\n",
       "Customer_Lifetime_Value                    0.396262                 0.011517   \n",
       "Income                                    -0.016665                -0.026715   \n",
       "Monthly_Premium_Auto                       1.000000                 0.005026   \n",
       "Months_Since_Last_Claim                    0.005026                 1.000000   \n",
       "Months_Since_Policy_Inception              0.020257                -0.042959   \n",
       "Number_of_Open_Complaints                 -0.013122                 0.005354   \n",
       "Number_of_Policies                        -0.011233                 0.009136   \n",
       "Total_Claim_Amount                         0.632017                 0.007563   \n",
       "\n",
       "                               Months_Since_Policy_Inception  \\\n",
       "Customer_Lifetime_Value                             0.009418   \n",
       "Income                                             -0.000875   \n",
       "Monthly_Premium_Auto                                0.020257   \n",
       "Months_Since_Last_Claim                            -0.042959   \n",
       "Months_Since_Policy_Inception                       1.000000   \n",
       "Number_of_Open_Complaints                          -0.001158   \n",
       "Number_of_Policies                                 -0.013333   \n",
       "Total_Claim_Amount                                  0.003335   \n",
       "\n",
       "                               Number_of_Open_Complaints  Number_of_Policies  \\\n",
       "Customer_Lifetime_Value                        -0.036343            0.021955   \n",
       "Income                                          0.006408           -0.008656   \n",
       "Monthly_Premium_Auto                           -0.013122           -0.011233   \n",
       "Months_Since_Last_Claim                         0.005354            0.009136   \n",
       "Months_Since_Policy_Inception                  -0.001158           -0.013333   \n",
       "Number_of_Open_Complaints                       1.000000            0.001498   \n",
       "Number_of_Policies                              0.001498            1.000000   \n",
       "Total_Claim_Amount                             -0.014241           -0.002354   \n",
       "\n",
       "                               Total_Claim_Amount  \n",
       "Customer_Lifetime_Value                  0.226451  \n",
       "Income                                  -0.355254  \n",
       "Monthly_Premium_Auto                     0.632017  \n",
       "Months_Since_Last_Claim                  0.007563  \n",
       "Months_Since_Policy_Inception            0.003335  \n",
       "Number_of_Open_Complaints               -0.014241  \n",
       "Number_of_Policies                      -0.002354  \n",
       "Total_Claim_Amount                       1.000000  "
      ]
     },
     "execution_count": 104,
     "metadata": {},
     "output_type": "execute_result"
    }
   ],
   "source": [
    "numerical.corr('pearson')"
   ]
  },
  {
   "cell_type": "code",
   "execution_count": 105,
   "metadata": {},
   "outputs": [
    {
     "data": {
      "text/html": [
       "<div>\n",
       "<style scoped>\n",
       "    .dataframe tbody tr th:only-of-type {\n",
       "        vertical-align: middle;\n",
       "    }\n",
       "\n",
       "    .dataframe tbody tr th {\n",
       "        vertical-align: top;\n",
       "    }\n",
       "\n",
       "    .dataframe thead th {\n",
       "        text-align: right;\n",
       "    }\n",
       "</style>\n",
       "<table border=\"1\" class=\"dataframe\">\n",
       "  <thead>\n",
       "    <tr style=\"text-align: right;\">\n",
       "      <th></th>\n",
       "      <th>Customer_Lifetime_Value</th>\n",
       "      <th>Income</th>\n",
       "      <th>Monthly_Premium_Auto</th>\n",
       "      <th>Months_Since_Last_Claim</th>\n",
       "      <th>Months_Since_Policy_Inception</th>\n",
       "      <th>Number_of_Open_Complaints</th>\n",
       "      <th>Number_of_Policies</th>\n",
       "      <th>Total_Claim_Amount</th>\n",
       "    </tr>\n",
       "  </thead>\n",
       "  <tbody>\n",
       "    <tr>\n",
       "      <th>Customer_Lifetime_Value</th>\n",
       "      <td>1.000000</td>\n",
       "      <td>0.038081</td>\n",
       "      <td>0.350830</td>\n",
       "      <td>0.003478</td>\n",
       "      <td>-0.001684</td>\n",
       "      <td>-0.024689</td>\n",
       "      <td>0.302811</td>\n",
       "      <td>0.144097</td>\n",
       "    </tr>\n",
       "    <tr>\n",
       "      <th>Income</th>\n",
       "      <td>0.038081</td>\n",
       "      <td>1.000000</td>\n",
       "      <td>-0.012074</td>\n",
       "      <td>-0.017980</td>\n",
       "      <td>-0.001340</td>\n",
       "      <td>0.005154</td>\n",
       "      <td>-0.007655</td>\n",
       "      <td>-0.279763</td>\n",
       "    </tr>\n",
       "    <tr>\n",
       "      <th>Monthly_Premium_Auto</th>\n",
       "      <td>0.350830</td>\n",
       "      <td>-0.012074</td>\n",
       "      <td>1.000000</td>\n",
       "      <td>-0.004021</td>\n",
       "      <td>0.009874</td>\n",
       "      <td>-0.010140</td>\n",
       "      <td>-0.005149</td>\n",
       "      <td>0.398305</td>\n",
       "    </tr>\n",
       "    <tr>\n",
       "      <th>Months_Since_Last_Claim</th>\n",
       "      <td>0.003478</td>\n",
       "      <td>-0.017980</td>\n",
       "      <td>-0.004021</td>\n",
       "      <td>1.000000</td>\n",
       "      <td>-0.032842</td>\n",
       "      <td>0.004631</td>\n",
       "      <td>0.008421</td>\n",
       "      <td>-0.000567</td>\n",
       "    </tr>\n",
       "    <tr>\n",
       "      <th>Months_Since_Policy_Inception</th>\n",
       "      <td>-0.001684</td>\n",
       "      <td>-0.001340</td>\n",
       "      <td>0.009874</td>\n",
       "      <td>-0.032842</td>\n",
       "      <td>1.000000</td>\n",
       "      <td>-0.010538</td>\n",
       "      <td>-0.007026</td>\n",
       "      <td>-0.004512</td>\n",
       "    </tr>\n",
       "    <tr>\n",
       "      <th>Number_of_Open_Complaints</th>\n",
       "      <td>-0.024689</td>\n",
       "      <td>0.005154</td>\n",
       "      <td>-0.010140</td>\n",
       "      <td>0.004631</td>\n",
       "      <td>-0.010538</td>\n",
       "      <td>1.000000</td>\n",
       "      <td>0.001319</td>\n",
       "      <td>-0.019562</td>\n",
       "    </tr>\n",
       "    <tr>\n",
       "      <th>Number_of_Policies</th>\n",
       "      <td>0.302811</td>\n",
       "      <td>-0.007655</td>\n",
       "      <td>-0.005149</td>\n",
       "      <td>0.008421</td>\n",
       "      <td>-0.007026</td>\n",
       "      <td>0.001319</td>\n",
       "      <td>1.000000</td>\n",
       "      <td>-0.008250</td>\n",
       "    </tr>\n",
       "    <tr>\n",
       "      <th>Total_Claim_Amount</th>\n",
       "      <td>0.144097</td>\n",
       "      <td>-0.279763</td>\n",
       "      <td>0.398305</td>\n",
       "      <td>-0.000567</td>\n",
       "      <td>-0.004512</td>\n",
       "      <td>-0.019562</td>\n",
       "      <td>-0.008250</td>\n",
       "      <td>1.000000</td>\n",
       "    </tr>\n",
       "  </tbody>\n",
       "</table>\n",
       "</div>"
      ],
      "text/plain": [
       "                               Customer_Lifetime_Value    Income  \\\n",
       "Customer_Lifetime_Value                       1.000000  0.038081   \n",
       "Income                                        0.038081  1.000000   \n",
       "Monthly_Premium_Auto                          0.350830 -0.012074   \n",
       "Months_Since_Last_Claim                       0.003478 -0.017980   \n",
       "Months_Since_Policy_Inception                -0.001684 -0.001340   \n",
       "Number_of_Open_Complaints                    -0.024689  0.005154   \n",
       "Number_of_Policies                            0.302811 -0.007655   \n",
       "Total_Claim_Amount                            0.144097 -0.279763   \n",
       "\n",
       "                               Monthly_Premium_Auto  Months_Since_Last_Claim  \\\n",
       "Customer_Lifetime_Value                    0.350830                 0.003478   \n",
       "Income                                    -0.012074                -0.017980   \n",
       "Monthly_Premium_Auto                       1.000000                -0.004021   \n",
       "Months_Since_Last_Claim                   -0.004021                 1.000000   \n",
       "Months_Since_Policy_Inception              0.009874                -0.032842   \n",
       "Number_of_Open_Complaints                 -0.010140                 0.004631   \n",
       "Number_of_Policies                        -0.005149                 0.008421   \n",
       "Total_Claim_Amount                         0.398305                -0.000567   \n",
       "\n",
       "                               Months_Since_Policy_Inception  \\\n",
       "Customer_Lifetime_Value                            -0.001684   \n",
       "Income                                             -0.001340   \n",
       "Monthly_Premium_Auto                                0.009874   \n",
       "Months_Since_Last_Claim                            -0.032842   \n",
       "Months_Since_Policy_Inception                       1.000000   \n",
       "Number_of_Open_Complaints                          -0.010538   \n",
       "Number_of_Policies                                 -0.007026   \n",
       "Total_Claim_Amount                                 -0.004512   \n",
       "\n",
       "                               Number_of_Open_Complaints  Number_of_Policies  \\\n",
       "Customer_Lifetime_Value                        -0.024689            0.302811   \n",
       "Income                                          0.005154           -0.007655   \n",
       "Monthly_Premium_Auto                           -0.010140           -0.005149   \n",
       "Months_Since_Last_Claim                         0.004631            0.008421   \n",
       "Months_Since_Policy_Inception                  -0.010538           -0.007026   \n",
       "Number_of_Open_Complaints                       1.000000            0.001319   \n",
       "Number_of_Policies                              0.001319            1.000000   \n",
       "Total_Claim_Amount                             -0.019562           -0.008250   \n",
       "\n",
       "                               Total_Claim_Amount  \n",
       "Customer_Lifetime_Value                  0.144097  \n",
       "Income                                  -0.279763  \n",
       "Monthly_Premium_Auto                     0.398305  \n",
       "Months_Since_Last_Claim                 -0.000567  \n",
       "Months_Since_Policy_Inception           -0.004512  \n",
       "Number_of_Open_Complaints               -0.019562  \n",
       "Number_of_Policies                      -0.008250  \n",
       "Total_Claim_Amount                       1.000000  "
      ]
     },
     "execution_count": 105,
     "metadata": {},
     "output_type": "execute_result"
    }
   ],
   "source": [
    "numerical.corr('kendall')"
   ]
  },
  {
   "cell_type": "code",
   "execution_count": 106,
   "metadata": {},
   "outputs": [
    {
     "data": {
      "text/html": [
       "<div>\n",
       "<style scoped>\n",
       "    .dataframe tbody tr th:only-of-type {\n",
       "        vertical-align: middle;\n",
       "    }\n",
       "\n",
       "    .dataframe tbody tr th {\n",
       "        vertical-align: top;\n",
       "    }\n",
       "\n",
       "    .dataframe thead th {\n",
       "        text-align: right;\n",
       "    }\n",
       "</style>\n",
       "<table border=\"1\" class=\"dataframe\">\n",
       "  <thead>\n",
       "    <tr style=\"text-align: right;\">\n",
       "      <th></th>\n",
       "      <th>Customer_Lifetime_Value</th>\n",
       "      <th>Income</th>\n",
       "      <th>Monthly_Premium_Auto</th>\n",
       "      <th>Months_Since_Last_Claim</th>\n",
       "      <th>Months_Since_Policy_Inception</th>\n",
       "      <th>Number_of_Open_Complaints</th>\n",
       "      <th>Number_of_Policies</th>\n",
       "      <th>Total_Claim_Amount</th>\n",
       "    </tr>\n",
       "  </thead>\n",
       "  <tbody>\n",
       "    <tr>\n",
       "      <th>Customer_Lifetime_Value</th>\n",
       "      <td>1.000000</td>\n",
       "      <td>0.055395</td>\n",
       "      <td>0.453933</td>\n",
       "      <td>0.005126</td>\n",
       "      <td>-0.002429</td>\n",
       "      <td>-0.031312</td>\n",
       "      <td>0.488860</td>\n",
       "      <td>0.210598</td>\n",
       "    </tr>\n",
       "    <tr>\n",
       "      <th>Income</th>\n",
       "      <td>0.055395</td>\n",
       "      <td>1.000000</td>\n",
       "      <td>-0.017608</td>\n",
       "      <td>-0.025784</td>\n",
       "      <td>-0.001945</td>\n",
       "      <td>0.006334</td>\n",
       "      <td>-0.010273</td>\n",
       "      <td>-0.401598</td>\n",
       "    </tr>\n",
       "    <tr>\n",
       "      <th>Monthly_Premium_Auto</th>\n",
       "      <td>0.453933</td>\n",
       "      <td>-0.017608</td>\n",
       "      <td>1.000000</td>\n",
       "      <td>-0.005989</td>\n",
       "      <td>0.014596</td>\n",
       "      <td>-0.012751</td>\n",
       "      <td>-0.006936</td>\n",
       "      <td>0.522261</td>\n",
       "    </tr>\n",
       "    <tr>\n",
       "      <th>Months_Since_Last_Claim</th>\n",
       "      <td>0.005126</td>\n",
       "      <td>-0.025784</td>\n",
       "      <td>-0.005989</td>\n",
       "      <td>1.000000</td>\n",
       "      <td>-0.048269</td>\n",
       "      <td>0.005736</td>\n",
       "      <td>0.011439</td>\n",
       "      <td>-0.000782</td>\n",
       "    </tr>\n",
       "    <tr>\n",
       "      <th>Months_Since_Policy_Inception</th>\n",
       "      <td>-0.002429</td>\n",
       "      <td>-0.001945</td>\n",
       "      <td>0.014596</td>\n",
       "      <td>-0.048269</td>\n",
       "      <td>1.000000</td>\n",
       "      <td>-0.013233</td>\n",
       "      <td>-0.009546</td>\n",
       "      <td>-0.006569</td>\n",
       "    </tr>\n",
       "    <tr>\n",
       "      <th>Number_of_Open_Complaints</th>\n",
       "      <td>-0.031312</td>\n",
       "      <td>0.006334</td>\n",
       "      <td>-0.012751</td>\n",
       "      <td>0.005736</td>\n",
       "      <td>-0.013233</td>\n",
       "      <td>1.000000</td>\n",
       "      <td>0.001523</td>\n",
       "      <td>-0.024694</td>\n",
       "    </tr>\n",
       "    <tr>\n",
       "      <th>Number_of_Policies</th>\n",
       "      <td>0.488860</td>\n",
       "      <td>-0.010273</td>\n",
       "      <td>-0.006936</td>\n",
       "      <td>0.011439</td>\n",
       "      <td>-0.009546</td>\n",
       "      <td>0.001523</td>\n",
       "      <td>1.000000</td>\n",
       "      <td>-0.011100</td>\n",
       "    </tr>\n",
       "    <tr>\n",
       "      <th>Total_Claim_Amount</th>\n",
       "      <td>0.210598</td>\n",
       "      <td>-0.401598</td>\n",
       "      <td>0.522261</td>\n",
       "      <td>-0.000782</td>\n",
       "      <td>-0.006569</td>\n",
       "      <td>-0.024694</td>\n",
       "      <td>-0.011100</td>\n",
       "      <td>1.000000</td>\n",
       "    </tr>\n",
       "  </tbody>\n",
       "</table>\n",
       "</div>"
      ],
      "text/plain": [
       "                               Customer_Lifetime_Value    Income  \\\n",
       "Customer_Lifetime_Value                       1.000000  0.055395   \n",
       "Income                                        0.055395  1.000000   \n",
       "Monthly_Premium_Auto                          0.453933 -0.017608   \n",
       "Months_Since_Last_Claim                       0.005126 -0.025784   \n",
       "Months_Since_Policy_Inception                -0.002429 -0.001945   \n",
       "Number_of_Open_Complaints                    -0.031312  0.006334   \n",
       "Number_of_Policies                            0.488860 -0.010273   \n",
       "Total_Claim_Amount                            0.210598 -0.401598   \n",
       "\n",
       "                               Monthly_Premium_Auto  Months_Since_Last_Claim  \\\n",
       "Customer_Lifetime_Value                    0.453933                 0.005126   \n",
       "Income                                    -0.017608                -0.025784   \n",
       "Monthly_Premium_Auto                       1.000000                -0.005989   \n",
       "Months_Since_Last_Claim                   -0.005989                 1.000000   \n",
       "Months_Since_Policy_Inception              0.014596                -0.048269   \n",
       "Number_of_Open_Complaints                 -0.012751                 0.005736   \n",
       "Number_of_Policies                        -0.006936                 0.011439   \n",
       "Total_Claim_Amount                         0.522261                -0.000782   \n",
       "\n",
       "                               Months_Since_Policy_Inception  \\\n",
       "Customer_Lifetime_Value                            -0.002429   \n",
       "Income                                             -0.001945   \n",
       "Monthly_Premium_Auto                                0.014596   \n",
       "Months_Since_Last_Claim                            -0.048269   \n",
       "Months_Since_Policy_Inception                       1.000000   \n",
       "Number_of_Open_Complaints                          -0.013233   \n",
       "Number_of_Policies                                 -0.009546   \n",
       "Total_Claim_Amount                                 -0.006569   \n",
       "\n",
       "                               Number_of_Open_Complaints  Number_of_Policies  \\\n",
       "Customer_Lifetime_Value                        -0.031312            0.488860   \n",
       "Income                                          0.006334           -0.010273   \n",
       "Monthly_Premium_Auto                           -0.012751           -0.006936   \n",
       "Months_Since_Last_Claim                         0.005736            0.011439   \n",
       "Months_Since_Policy_Inception                  -0.013233           -0.009546   \n",
       "Number_of_Open_Complaints                       1.000000            0.001523   \n",
       "Number_of_Policies                              0.001523            1.000000   \n",
       "Total_Claim_Amount                             -0.024694           -0.011100   \n",
       "\n",
       "                               Total_Claim_Amount  \n",
       "Customer_Lifetime_Value                  0.210598  \n",
       "Income                                  -0.401598  \n",
       "Monthly_Premium_Auto                     0.522261  \n",
       "Months_Since_Last_Claim                 -0.000782  \n",
       "Months_Since_Policy_Inception           -0.006569  \n",
       "Number_of_Open_Complaints               -0.024694  \n",
       "Number_of_Policies                      -0.011100  \n",
       "Total_Claim_Amount                       1.000000  "
      ]
     },
     "execution_count": 106,
     "metadata": {},
     "output_type": "execute_result"
    }
   ],
   "source": [
    "numerical.corr('spearman')"
   ]
  },
  {
   "cell_type": "markdown",
   "metadata": {},
   "source": [
    "5. Drop one of the two features that show a high correlation between them (greater than 0.9). Write code for both the correlation matrix and for seaborn heatmap. If there is no pair of features that have a high correlation, then do not drop any features"
   ]
  },
  {
   "cell_type": "code",
   "execution_count": 108,
   "metadata": {},
   "outputs": [
    {
     "data": {
      "image/png": "[encoded data removed]",
      "text/plain": [
       "<Figure size 576x576 with 2 Axes>"
      ]
     },
     "metadata": {},
     "output_type": "display_data"
    }
   ],
   "source": [
    "corr = numerical.corr()\n",
    "mask = np.triu(np.ones_like(corr, dtype = bool))\n",
    "cmap = sns.diverging_palette(2020, 10, as_cmap = True)\n",
    "plt.figure(figsize = (8, 8))\n",
    "sns.heatmap(corr, mask = mask, cmap = cmap, vmin = -1, vmax = 1, annot = True,\n",
    "            square = True, linewidths = 0.5, cbar_kws = {'shrink' : 0.75});"
   ]
  },
  {
   "cell_type": "code",
   "execution_count": null,
   "metadata": {},
   "outputs": [],
   "source": []
  }
 ],
 "metadata": {
  "kernelspec": {
   "display_name": "Python 3",
   "language": "python",
   "name": "python3"
  },
  "language_info": {
   "codemirror_mode": {
    "name": "ipython",
    "version": 3
   },
   "file_extension": ".py",
   "mimetype": "text/x-python",
   "name": "python",
   "nbconvert_exporter": "python",
   "pygments_lexer": "ipython3",
   "version": "3.8.5"
  }
 },
 "nbformat": 4,
 "nbformat_minor": 4
}
